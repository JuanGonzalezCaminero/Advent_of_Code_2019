{
 "cells": [
  {
   "cell_type": "code",
   "execution_count": 293,
   "metadata": {},
   "outputs": [],
   "source": [
    "import math\n",
    "import numpy as np"
   ]
  },
  {
   "cell_type": "code",
   "execution_count": 311,
   "metadata": {},
   "outputs": [
    {
     "data": {
      "text/plain": [
       "['#...##.####.#.......#.##..##.#.',\n",
       " '#.##.#..#..#...##..##.##.#.....',\n",
       " '#..#####.#......#..#....#.###.#',\n",
       " '...#.#.#...#..#.....#..#..#.#..',\n",
       " '.#.....##..#...#..#.#...##.....',\n",
       " '##.....#..........##..#......##',\n",
       " '.##..##.#.#....##..##.......#..',\n",
       " '#.##.##....###..#...##...##....',\n",
       " '##.#.#............##..#...##..#',\n",
       " '###..##.###.....#.##...####....',\n",
       " '...##..#...##...##..#.#..#...#.',\n",
       " '..#.#.##.#.#.#####.#....####.#.',\n",
       " '#......###.##....#...#...#...##',\n",
       " '.....#...#.#.#.#....#...#......',\n",
       " '#..#.#.#..#....#..#...#..#..##.',\n",
       " '#.....#..##.....#...###..#..#.#',\n",
       " '.....####.#..#...##..#..#..#..#',\n",
       " '..#.....#.#........#.#.##..####',\n",
       " '.#.....##..#.##.....#...###....',\n",
       " '###.###....#..#..#.....#####...',\n",
       " '#..##.##..##.#.#....#.#......#.',\n",
       " '.#....#.##..#.#.#.......##.....',\n",
       " '##.##...#...#....###.#....#....',\n",
       " '.....#.######.#.#..#..#.#.....#',\n",
       " '.#..#.##.#....#.##..#.#...##..#',\n",
       " '.##.###..#..#..#.###...#####.#.',\n",
       " '#...#...........#.....#.......#',\n",
       " '#....##.#.#..##...#..####...#..',\n",
       " '#.####......#####.....#.##..#..',\n",
       " '.#...#....#...##..##.#.#......#',\n",
       " '#..###.....##.#.......#.##...##']"
      ]
     },
     "execution_count": 311,
     "metadata": {},
     "output_type": "execute_result"
    }
   ],
   "source": [
    "f = open(\"input\")\n",
    "asteroid_map = f.read()\n",
    "f.close()\n",
    "#asteroid_map='.#..##.###...#######\\n##.############..##.\\n.#.######.########.#\\n.###.#######.####.#.\\n#####.##.#.##.###.##\\n..#####..#.#########\\n####################\\n#.####....###.#.#.##\\n##.#################\\n#####.##.###..####..\\n..######..##.#######\\n####.##.####...##..#\\n.#####..#.######.###\\n##...#.##########...\\n#.##########.#######\\n.####.#.###.###.#.##\\n....##.##.###..#####\\n.#.#.###########.###\\n#.#.#.#####.####.###\\n###.##.####.##.#..##\\n'\n",
    "#asteroid_map='.#..#\\n.....\\n#####\\n....#\\n...##\\n'\n",
    "#asteroid_map='......#.#.\\n#..#.#....\\n..#######.\\n.#.#.###..\\n.#..#.....\\n..#....#.#\\n#..#....#.\\n.##.#..###\\n##...#..#.\\n.#....####\\n'\n",
    "#asteroid_map='#.#...#.#.\\n.###....#.\\n.#....#...\\n##.#.#.#.#\\n....#.#.#.\\n.##..###.#\\n..#...##..\\n..##....##\\n......#...\\n.####.###.\\n'\n",
    "#asteroid_map='.#..#..###\\n####.###.#\\n....###.#.\\n..###.##.#\\n##.##.#.#.\\n....###..#\\n..#.#..#.#\\n#..#.#.###\\n.##...##.#\\n.....#.#..\\n'\n",
    "asteroid_map = asteroid_map.split(\"\\n\")\n",
    "asteroid_map.pop(-1)\n",
    "asteroid_map"
   ]
  },
  {
   "cell_type": "code",
   "execution_count": 295,
   "metadata": {},
   "outputs": [],
   "source": [
    "#Create a graph based on the map. For each pair of asteroids,\n",
    "#store the type of relation between them. The type being the\n",
    "#angle of the line between them with respect to the horizon.\n",
    "#\n",
    "#For each node, order the rest of the nodes base on their distance\n",
    "#to the focused node, for each node in that ordered list, add that\n",
    "#node to a list of visible asteroids, and remove all the nodes that\n",
    "#have the same type of relation with that selected node as the \n",
    "#selected node has with the node we are currently looking at. That is,\n",
    "#if the angle of the line between A and B is the same as the angle of\n",
    "#the line between B and C, and B is closer to A than C, then B is blocking\n",
    "#C from A's view"
   ]
  },
  {
   "cell_type": "code",
   "execution_count": 312,
   "metadata": {},
   "outputs": [],
   "source": [
    "#In order to label the asteroids so it's easier to work with them, build\n",
    "#a list of tuples containing the coordinates of an asteroid and it's id.\n",
    "#The coordinates are stored in a (row, column) format\n",
    "next_id=0\n",
    "asteroids = []\n",
    "for row in range(len(asteroid_map)):\n",
    "    for column in range(len(asteroid_map[row])):\n",
    "        if asteroid_map[row][column]==\"#\":\n",
    "            asteroids.append(((row, column), next_id))\n",
    "            next_id+=1"
   ]
  },
  {
   "cell_type": "code",
   "execution_count": 313,
   "metadata": {},
   "outputs": [],
   "source": [
    "#Build the graph\n",
    "asteroid_graph=[]\n",
    "for i in range(len(asteroids)):\n",
    "    for j in range(i+1, len(asteroids)):\n",
    "        asteroid_0 = asteroids[i][0]\n",
    "        asteroid_1 = asteroids[j][0]\n",
    "        asteroid_0_id = asteroids[i][1]\n",
    "        asteroid_1_id = asteroids[j][1]\n",
    "        \n",
    "        #Get the angle between the line between the asteroids and\n",
    "        #the horizon\n",
    "        hypotenuse_length = math.sqrt(pow(asteroid_0[0]-asteroid_1[0], 2) + \\\n",
    "                                      pow(asteroid_0[1]-asteroid_1[1], 2))\n",
    "        distance=hypotenuse_length\n",
    "        #Get the projection of the higher asteroid over the horizontal line. If\n",
    "        #they are at the same height, the angle is 0 or 180, but for practical\n",
    "        #purposes I will always use 0 as the result is the same. In order to measure \n",
    "        #the conterclockwise angle, calculate 180-angle degrees if the higher asteroid\n",
    "        #is to the left of the other \n",
    "        if asteroid_0[0]==asteroid_1[0]:\n",
    "            if asteroid_0[1]<asteroid_1[1]:\n",
    "                asteroid_graph.append(((asteroid_0, asteroid_0_id), (asteroid_1, asteroid_1_id), 0, distance))\n",
    "                asteroid_graph.append(((asteroid_1, asteroid_1_id), (asteroid_0, asteroid_0_id), 180, distance))\n",
    "            else:\n",
    "                asteroid_graph.append(((asteroid_0, asteroid_0_id), (asteroid_1, asteroid_1_id), 180, distance))\n",
    "                asteroid_graph.append(((asteroid_1, asteroid_1_id), (asteroid_0, asteroid_0_id), 0, distance))\n",
    "            continue\n",
    "        higher_asteroid = asteroid_0 if asteroid_0[0]<asteroid_1[0] else asteroid_1\n",
    "        lower_asteroid = asteroid_0 if asteroid_0[0]>asteroid_1[0] else asteroid_1\n",
    "        #rightmost_asteroid = asteroid_0 if asteroid_0[1]>=asteroid_1[1] else asteroid_1\n",
    "        leftmost_asteroid = asteroid_0 if asteroid_0[1]<=asteroid_1[1] else asteroid_1\n",
    "        higher_asteroid_id = asteroid_0_id if higher_asteroid==asteroid_0 else asteroid_1_id\n",
    "        lower_asteroid_id = asteroid_0_id if lower_asteroid==asteroid_0 else asteroid_1_id\n",
    "\n",
    "        horizontal_projection = (lower_asteroid[0],higher_asteroid[1])\n",
    "            \n",
    "        far_side_length = horizontal_projection[0]-higher_asteroid[0]\n",
    "        near_side_length = abs(horizontal_projection[1]-lower_asteroid[1])\n",
    "        \n",
    "        angle_0_to_1=angle=math.degrees(math.atan2(asteroid_0[0]-asteroid_1[0],\\\n",
    "                                                   asteroid_0[1]-asteroid_1[1]))\n",
    "        angle_1_to_0=angle=math.degrees(math.atan2(asteroid_1[0]-asteroid_0[0],\\\n",
    "                                                   asteroid_1[1]-asteroid_0[1]))\n",
    "        \n",
    "        asteroid_graph.append(((asteroid_0, asteroid_0_id), (asteroid_1, asteroid_1_id), angle_0_to_1, distance))\n",
    "        asteroid_graph.append(((asteroid_1, asteroid_1_id), (asteroid_0, asteroid_0_id), angle_1_to_0, distance))\n",
    "        #if higher_asteroid == leftmost_asteroid:\n",
    "            #In this case, the length of the hypotenuse is negative\n",
    "            #angle = 180-math.degrees(math.asin((far_side_length/hypotenuse_length)))\n",
    "            #angle = 180-math.degrees(math.acos((near_side_length/hypotenuse_length)))\n",
    "        #else:\n",
    "            #angle = math.degrees(math.asin(far_side_length/hypotenuse_length))\n",
    "            #angle = math.degrees(math.acos((near_side_length/hypotenuse_length)))\n",
    "        #asteroid_graph.append(((lower_asteroid, lower_asteroid_id), (higher_asteroid, higher_asteroid_id), angle, distance))\n",
    "        #Now append another vertex from the higher asteroid to the lower. The horizon\n",
    "        #in this case is in the higher asteroid, so the angle is the opposite\n",
    "        #asteroid_graph.append(((higher_asteroid, higher_asteroid_id), (lower_asteroid, lower_asteroid_id), angle-180, distance))       "
   ]
  },
  {
   "cell_type": "code",
   "execution_count": 314,
   "metadata": {},
   "outputs": [],
   "source": [
    "connections = {}\n",
    "for asteroid in asteroids:\n",
    "    connections[asteroid[1]]=[i for i in asteroid_graph if i[0][0]==asteroid[0]]"
   ]
  },
  {
   "cell_type": "code",
   "execution_count": 315,
   "metadata": {},
   "outputs": [
    {
     "data": {
      "text/plain": [
       "288"
      ]
     },
     "execution_count": 315,
     "metadata": {},
     "output_type": "execute_result"
    }
   ],
   "source": [
    "visible=[]\n",
    "for asteroid in asteroids:\n",
    "    #print(asteroid)\n",
    "    visible_asteroids=0\n",
    "    #Iterate over the graph nodes starting by the ones closer to this node. To \n",
    "    #get those, first filter the connections from this node to the others and use\n",
    "    #only those\n",
    "    reduced_graph = [i for i in connections[asteroid[1]]]\n",
    "    reduced_graph.sort(key=lambda a: a[3])\n",
    "    #Now, for each node in this graph, count 1 visible asteroid, then, search the complete\n",
    "    #graph for the nodes that have connections with the node we just counted, and remove\n",
    "    #those that have the same angle with the counted node as the counted node has with the\n",
    "    #current node\n",
    "    while True:\n",
    "        try:\n",
    "            connection=reduced_graph.pop(0)\n",
    "            visible_asteroids+=1\n",
    "            #Search the connections of the counted asteroid\n",
    "            to_remove=[]\n",
    "            for c in connections[connection[1][1]]:\n",
    "                if c[2] == connection[2]:\n",
    "                    to_remove.append(c[1])\n",
    "            reduced_graph=[i for i in reduced_graph if i[1] not in to_remove]\n",
    "        except Exception as e:\n",
    "            visible.append(visible_asteroids)\n",
    "            break\n",
    "np.max(visible)"
   ]
  },
  {
   "cell_type": "code",
   "execution_count": 297,
   "metadata": {},
   "outputs": [],
   "source": [
    "'''\n",
    "#Build the graph\n",
    "asteroid_graph=[]\n",
    "for i in range(len(asteroids)):\n",
    "    for j in range(i+1, len(asteroids)):\n",
    "        asteroid_0 = asteroids[i][0]\n",
    "        asteroid_1 = asteroids[j][0]\n",
    "        asteroid_0_id = asteroids[i][1]\n",
    "        asteroid_1_id = asteroids[j][1]\n",
    "        \n",
    "        #Get the angle between the line between the asteroids and\n",
    "        #the horizon\n",
    "        hypotenuse_length = math.sqrt(pow(asteroid_0[0]-asteroid_1[0], 2) + \\\n",
    "                                      pow(asteroid_0[1]-asteroid_1[1], 2))\n",
    "        distance=hypotenuse_length\n",
    "        if asteroid_0[0]==asteroid_1[0]:\n",
    "            if asteroid_0[1]<asteroid_1[1]:\n",
    "                asteroid_graph.append(((asteroid_0, asteroid_0_id), (asteroid_1, asteroid_1_id), \"h+\", distance))\n",
    "                asteroid_graph.append(((asteroid_1, asteroid_1_id), (asteroid_0, asteroid_0_id), \"h-\", distance))\n",
    "            else:\n",
    "                asteroid_graph.append(((asteroid_0, asteroid_0_id), (asteroid_1, asteroid_1_id), \"h-\", distance))\n",
    "                asteroid_graph.append(((asteroid_1, asteroid_1_id), (asteroid_0, asteroid_0_id), \"h+\", distance))\n",
    "            continue\n",
    "        if asteroid_0[1]==asteroid_1[1]:\n",
    "            if asteroid_0[0]<asteroid_1[0]:\n",
    "                asteroid_graph.append(((asteroid_0, asteroid_0_id), (asteroid_1, asteroid_1_id), \"v+\", distance))\n",
    "                asteroid_graph.append(((asteroid_1, asteroid_1_id), (asteroid_0, asteroid_0_id), \"v-\", distance))\n",
    "            else:\n",
    "                asteroid_graph.append(((asteroid_0, asteroid_0_id), (asteroid_1, asteroid_1_id), \"v-\", distance))\n",
    "                asteroid_graph.append(((asteroid_1, asteroid_1_id), (asteroid_0, asteroid_0_id), \"v+\", distance))\n",
    "            continue\n",
    "        \n",
    "        slope_0_to_1=(asteroid_1[0]-asteroid_0[0])/(asteroid_1[1]-asteroid_0[1])\n",
    "        slope_1_to_0=(asteroid_0[0]-asteroid_1[0])/(asteroid_0[1]-asteroid_1[1])\n",
    "        \n",
    "        asteroid_graph.append(((asteroid_0, asteroid_0_id), (asteroid_1, asteroid_1_id), slope_0_to_1, distance))\n",
    "        asteroid_graph.append(((asteroid_1, asteroid_1_id), (asteroid_0, asteroid_0_id), slope_1_to_0, distance))\n",
    "'''"
   ]
  }
 ],
 "metadata": {
  "kernelspec": {
   "display_name": "Python 3",
   "language": "python",
   "name": "python3"
  },
  "language_info": {
   "codemirror_mode": {
    "name": "ipython",
    "version": 3
   },
   "file_extension": ".py",
   "mimetype": "text/x-python",
   "name": "python",
   "nbconvert_exporter": "python",
   "pygments_lexer": "ipython3",
   "version": "3.7.3"
  }
 },
 "nbformat": 4,
 "nbformat_minor": 2
}
