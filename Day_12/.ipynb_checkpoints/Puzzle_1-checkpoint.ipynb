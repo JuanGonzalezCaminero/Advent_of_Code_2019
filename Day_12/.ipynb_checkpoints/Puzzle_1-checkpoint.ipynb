{
 "cells": [
  {
   "cell_type": "code",
   "execution_count": 49,
   "metadata": {},
   "outputs": [
    {
     "data": {
      "text/plain": [
       "[[-6, -5, -8], [0, -3, -13], [-15, 10, -11], [-3, -8, 3]]"
      ]
     },
     "execution_count": 49,
     "metadata": {},
     "output_type": "execute_result"
    }
   ],
   "source": [
    "f = open(\"input\")\n",
    "moons = f.read()\n",
    "f.close()\n",
    "moons = moons.split(\"\\n\")\n",
    "moons = [moon.strip(\"<\").strip(\">\") for moon in moons]\n",
    "moons.pop(-1)\n",
    "aux=[]\n",
    "for m in [moon.split(\",\") for moon in moons]:\n",
    "    aux.append([int(coord.strip()[2:]) for coord in m]) \n",
    "moons=aux\n",
    "velocity = [[0,0,0] for moon in moons]\n",
    "\n",
    "#moons=[[-8,-10,0],[5,5,10],[2,-7,3],[9,-8,-3]]\n",
    "\n",
    "moons"
   ]
  },
  {
   "cell_type": "code",
   "execution_count": 50,
   "metadata": {},
   "outputs": [
    {
     "data": {
      "text/plain": [
       "80668"
      ]
     },
     "execution_count": 50,
     "metadata": {},
     "output_type": "execute_result"
    }
   ],
   "source": [
    "for step in range(1000):\n",
    "    #Modify velocity\n",
    "    for i in range(4):\n",
    "        for j in range(i+1, 4):\n",
    "            for axis in range(3):\n",
    "                if moons[i][axis]>moons[j][axis]:\n",
    "                    velocity[i][axis]-=1\n",
    "                    velocity[j][axis]+=1\n",
    "                elif moons[i][axis]<moons[j][axis]:\n",
    "                    velocity[i][axis]+=1\n",
    "                    velocity[j][axis]-=1\n",
    "    #Apply velocity\n",
    "    for i in range(4):\n",
    "        for axis in range(3):\n",
    "            moons[i][axis]+=velocity[i][axis]\n",
    "energy=0\n",
    "for i in range(4):\n",
    "    energy+=(abs(moons[i][0])+abs(moons[i][1])+abs(moons[i][2]))\\\n",
    "    *(abs(velocity[i][0])+abs(velocity[i][1])+abs(velocity[i][2]))\n",
    "energy"
   ]
  },
  {
   "cell_type": "code",
   "execution_count": null,
   "metadata": {},
   "outputs": [],
   "source": []
  },
  {
   "cell_type": "code",
   "execution_count": null,
   "metadata": {},
   "outputs": [],
   "source": []
  },
  {
   "cell_type": "code",
   "execution_count": null,
   "metadata": {},
   "outputs": [],
   "source": []
  },
  {
   "cell_type": "code",
   "execution_count": null,
   "metadata": {},
   "outputs": [],
   "source": []
  },
  {
   "cell_type": "code",
   "execution_count": null,
   "metadata": {},
   "outputs": [],
   "source": []
  }
 ],
 "metadata": {
  "kernelspec": {
   "display_name": "Python 3",
   "language": "python",
   "name": "python3"
  },
  "language_info": {
   "codemirror_mode": {
    "name": "ipython",
    "version": 3
   },
   "file_extension": ".py",
   "mimetype": "text/x-python",
   "name": "python",
   "nbconvert_exporter": "python",
   "pygments_lexer": "ipython3",
   "version": "3.7.3"
  }
 },
 "nbformat": 4,
 "nbformat_minor": 2
}
