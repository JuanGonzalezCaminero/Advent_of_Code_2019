{
 "cells": [
  {
   "cell_type": "code",
   "execution_count": null,
   "metadata": {},
   "outputs": [],
   "source": [
    "import functools\n",
    "import numpy as np"
   ]
  },
  {
   "cell_type": "code",
   "execution_count": null,
   "metadata": {},
   "outputs": [],
   "source": [
    "f = open(\"input\")\n",
    "moons = f.read()\n",
    "f.close()\n",
    "moons = moons.split(\"\\n\")\n",
    "moons = [moon.strip(\"<\").strip(\">\") for moon in moons]\n",
    "moons.pop(-1)\n",
    "aux=[]\n",
    "for m in [moon.split(\",\") for moon in moons]:\n",
    "    aux.append([int(coord.strip()[2:]) for coord in m]) \n",
    "moons=aux\n",
    "velocity = [[0,0,0] for moon in moons]\n",
    "#moons=[[-1,0,2],[2,-10,-7],[4,-8,8],[3,5,-1]]\n",
    "\n",
    "#As it turns out, positions and velocities are periodic. I look\n",
    "#for the period of each position and velocity and finally compute\n",
    "#their minumum common multiple\n",
    "will_repeat=[[i for i in moon] for moon in moons]\n",
    "periods = [1 for i in range(8)]\n",
    "found_period = [False for i in range(8)]\n",
    "itr=0\n",
    "while True:\n",
    "    #print(found_period)\n",
    "    #Modify velocity\n",
    "    for i in range(4):\n",
    "        for j in range(i+1, 4):\n",
    "            for axis in range(3):\n",
    "                if moons[i][axis]>moons[j][axis]:\n",
    "                    velocity[i][axis]-=1\n",
    "                    velocity[j][axis]+=1\n",
    "                elif moons[i][axis]<moons[j][axis]:\n",
    "                    velocity[i][axis]+=1\n",
    "                    velocity[j][axis]-=1\n",
    "                    \n",
    "    #Apply velocity\n",
    "    for i in range(4):\n",
    "        for axis in range(3):\n",
    "            moons[i][axis]+=velocity[i][axis]\n",
    "    #print(itr)\n",
    "    #print(moons)\n",
    "    #print(velocity)\n",
    "\n",
    "    for i in range(4):\n",
    "        if moons[i]==will_repeat[i] and velocity[i-4]==[0,0,0]:\n",
    "            found_period[i]=True\n",
    "            found_period[i+4]=True\n",
    "        elif not found_period[i]:\n",
    "            periods[i]+=1\n",
    "            periods[i+4]+=1\n",
    "    if all(found_period):\n",
    "        break\n",
    "    itr+=1\n",
    "print(periods)\n",
    "functools.reduce(lambda a,b: np.lcm(a,b), periods)"
   ]
  },
  {
   "cell_type": "code",
   "execution_count": 78,
   "metadata": {},
   "outputs": [
    {
     "data": {
      "text/plain": [
       "[4, 5, 6, 7]"
      ]
     },
     "execution_count": 78,
     "metadata": {},
     "output_type": "execute_result"
    }
   ],
   "source": [
    "list(range(4,8))"
   ]
  },
  {
   "cell_type": "code",
   "execution_count": 110,
   "metadata": {},
   "outputs": [
    {
     "data": {
      "text/plain": [
       "79820"
      ]
     },
     "execution_count": 110,
     "metadata": {},
     "output_type": "execute_result"
    }
   ],
   "source": [
    "np.lcm(307, 260)"
   ]
  }
 ],
 "metadata": {
  "kernelspec": {
   "display_name": "Python 3",
   "language": "python",
   "name": "python3"
  }
 },
 "nbformat": 4,
 "nbformat_minor": 2
}
