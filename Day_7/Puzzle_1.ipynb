{
 "cells": [
  {
   "cell_type": "code",
   "execution_count": 42,
   "metadata": {},
   "outputs": [],
   "source": [
    "import itertools"
   ]
  },
  {
   "cell_type": "code",
   "execution_count": 115,
   "metadata": {},
   "outputs": [],
   "source": [
    " def run_program(intcode, amplifier_input):\n",
    "    program_counter=0\n",
    "    #Execute the program\n",
    "    while True:\n",
    "        opcode=int(str(intcode[program_counter])[-2:])\n",
    "        #Extremely unefficient switch:\n",
    "        #3 parameter instructions\n",
    "        if opcode==1 or opcode==2 or opcode==7 or opcode==8:\n",
    "            #print(\"Opcode: \" + str(intcode[program_counter]))\n",
    "            param_1_mode=int(str(intcode[program_counter])[-3]) if\\\n",
    "            len(str(intcode[program_counter]))>=3 else 0\n",
    "            param_2_mode=int(str(intcode[program_counter])[-4]) if\\\n",
    "            len(str(intcode[program_counter]))>=4 else 0\n",
    "            \n",
    "            param_1=get_value(param_1_mode, intcode[program_counter+1], intcode)\n",
    "            param_2=get_value(param_2_mode, intcode[program_counter+2], intcode)\n",
    "            #The output parameter is always mode 0\n",
    "            param_3=intcode[program_counter+3]\n",
    "            #ADD\n",
    "            if opcode==1:\n",
    "                intcode[param_3]=param_1+param_2\n",
    "            #PRODUCT\n",
    "            elif opcode==2:\n",
    "                intcode[param_3]=param_1*param_2\n",
    "            #LESS THAN\n",
    "            elif opcode==7:\n",
    "                intcode[param_3]=1 if param_1<param_2 else 0\n",
    "            #EQUALS\n",
    "            elif opcode==8:\n",
    "                intcode[param_3]=1 if param_1==param_2 else 0\n",
    "            program_counter+=4\n",
    "        #2 parameter instructions\n",
    "        elif opcode==5 or opcode==6:\n",
    "            param_1_mode=int(str(intcode[program_counter])[-3]) if\\\n",
    "            len(str(intcode[program_counter]))>=3 else 0\n",
    "            param_2_mode=int(str(intcode[program_counter])[-4]) if\\\n",
    "            len(str(intcode[program_counter]))>=4 else 0\n",
    "            param_1=get_value(param_1_mode, intcode[program_counter+1], intcode)\n",
    "            param_2=get_value(param_2_mode, intcode[program_counter+2], intcode)\n",
    "            #JUMP IF TRUE\n",
    "            if opcode==5:\n",
    "                if param_1!=0:\n",
    "                    program_counter=param_2\n",
    "                else:\n",
    "                    program_counter+=3\n",
    "            #JUMP IF FALSE\n",
    "            elif opcode==6:\n",
    "                if param_1==0:\n",
    "                    program_counter=param_2\n",
    "                else:\n",
    "                    program_counter+=3\n",
    "                \n",
    "        #1 parameter instructions\n",
    "        elif opcode==3 or opcode==4:\n",
    "            #READ\n",
    "            if opcode==3:\n",
    "                param_1=intcode[program_counter+1]\n",
    "                #read_value = int(input())\n",
    "                read_value = amplifier_input.pop(0)\n",
    "                intcode[param_1] = read_value\n",
    "            #WRITE\n",
    "            elif opcode==4:\n",
    "                param_1_mode=int(str(intcode[program_counter])[-3:]) if\\\n",
    "                len(str(intcode[program_counter]))>=3 else 0\n",
    "                param_1=get_value(param_1_mode, intcode[program_counter+1], intcode)\n",
    "                #print(param_1)\n",
    "                return param_1\n",
    "            program_counter+=2\n",
    "        elif opcode==99:\n",
    "            print(\"Program complete\")\n",
    "            break\n",
    "        else:\n",
    "            print(\"An error ha occurred\")\n",
    "            break\n",
    "        "
   ]
  },
  {
   "cell_type": "code",
   "execution_count": 116,
   "metadata": {},
   "outputs": [],
   "source": [
    "def get_value(parameter_mode, parameter, intcode):\n",
    "    '''\n",
    "    Returns the value of the parameter based on it's mode. For mode\n",
    "    0 the value returned is the value stored in the memory (intcode)\n",
    "    position indicated by the parameter. For mode 1, the value of\n",
    "    the parameter is returned\n",
    "    '''\n",
    "    if parameter_mode==0:\n",
    "        return intcode[parameter]\n",
    "    elif parameter_mode==1:\n",
    "        return parameter"
   ]
  },
  {
   "cell_type": "code",
   "execution_count": 118,
   "metadata": {},
   "outputs": [
    {
     "data": {
      "text/plain": [
       "368584"
      ]
     },
     "execution_count": 118,
     "metadata": {},
     "output_type": "execute_result"
    }
   ],
   "source": [
    "f = open(\"input\")\n",
    "intcode = [int(i) for i in f.read().split(\",\")]\n",
    "f.close()\n",
    "#Possible outputs\n",
    "outputs=[]\n",
    "#possible phase setting combinations\n",
    "a=[0,1,2,3,4]\n",
    "phase_setting_combinations = list(itertools.permutations(a))\n",
    "for combination in phase_setting_combinations:\n",
    "    next_input=0\n",
    "    combination = list(combination)\n",
    "    for amplifier in range(5):\n",
    "        amplifier_input=[combination.pop(0), next_input]\n",
    "        next_input=run_program(intcode, amplifier_input)\n",
    "    outputs.append(next_input)\n",
    "np.max(outputs)"
   ]
  },
  {
   "cell_type": "code",
   "execution_count": 128,
   "metadata": {},
   "outputs": [
    {
     "data": {
      "text/plain": [
       "(1, 2, 4, 5, 6)"
      ]
     },
     "execution_count": 128,
     "metadata": {},
     "output_type": "execute_result"
    }
   ],
   "source": [
    "a1_output = run_program(intcode, [5, 0])\n",
    "a2_output = run_program(intcode, [6, a1_output])\n",
    "a3_output = run_program(intcode, [7, a2_output])\n",
    "a4_output = run_program(intcode, [8, a3_output])\n",
    "a5_output = run_program(intcode, [9, a4_output])\n",
    "a1_output, a2_output, a3_output, a4_output, a5_output"
   ]
  },
  {
   "cell_type": "code",
   "execution_count": 129,
   "metadata": {},
   "outputs": [
    {
     "data": {
      "text/plain": [
       "1"
      ]
     },
     "execution_count": 129,
     "metadata": {},
     "output_type": "execute_result"
    }
   ],
   "source": [
    "run_program(intcode, [5, 0])"
   ]
  },
  {
   "cell_type": "code",
   "execution_count": 130,
   "metadata": {},
   "outputs": [
    {
     "data": {
      "text/plain": [
       "2"
      ]
     },
     "execution_count": 130,
     "metadata": {},
     "output_type": "execute_result"
    }
   ],
   "source": [
    "run_program(intcode, [6, 1])"
   ]
  },
  {
   "cell_type": "code",
   "execution_count": 131,
   "metadata": {},
   "outputs": [
    {
     "data": {
      "text/plain": [
       "4"
      ]
     },
     "execution_count": 131,
     "metadata": {},
     "output_type": "execute_result"
    }
   ],
   "source": [
    "run_program(intcode, [7, 2])"
   ]
  },
  {
   "cell_type": "code",
   "execution_count": 132,
   "metadata": {},
   "outputs": [
    {
     "data": {
      "text/plain": [
       "5"
      ]
     },
     "execution_count": 132,
     "metadata": {},
     "output_type": "execute_result"
    }
   ],
   "source": [
    "run_program(intcode, [8, 4])"
   ]
  },
  {
   "cell_type": "code",
   "execution_count": 133,
   "metadata": {},
   "outputs": [
    {
     "data": {
      "text/plain": [
       "6"
      ]
     },
     "execution_count": 133,
     "metadata": {},
     "output_type": "execute_result"
    }
   ],
   "source": [
    "run_program(intcode, [9, 5])"
   ]
  }
 ],
 "metadata": {
  "kernelspec": {
   "display_name": "Python 3",
   "language": "python",
   "name": "python3"
  },
  "language_info": {
   "codemirror_mode": {
    "name": "ipython",
    "version": 3
   },
   "file_extension": ".py",
   "mimetype": "text/x-python",
   "name": "python",
   "nbconvert_exporter": "python",
   "pygments_lexer": "ipython3",
   "version": "3.7.3"
  }
 },
 "nbformat": 4,
 "nbformat_minor": 2
}
