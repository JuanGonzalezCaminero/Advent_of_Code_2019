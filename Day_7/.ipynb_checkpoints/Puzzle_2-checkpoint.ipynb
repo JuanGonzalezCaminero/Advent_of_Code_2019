{
 "cells": [
  {
   "cell_type": "code",
   "execution_count": null,
   "metadata": {},
   "outputs": [],
   "source": []
  },
  {
   "cell_type": "code",
   "execution_count": 1,
   "metadata": {},
   "outputs": [],
   "source": [
    "import itertools\n",
    "import numpy as np"
   ]
  },
  {
   "cell_type": "code",
   "execution_count": 46,
   "metadata": {},
   "outputs": [],
   "source": [
    " def run_program(intcode, amplifier_input, pc=0):\n",
    "    program_counter=0 if pc==0 else pc\n",
    "    #print(\"PC in: \" + str(pc))\n",
    "    #Execute the program\n",
    "    while True:\n",
    "        opcode=int(str(intcode[program_counter])[-2:])\n",
    "        #Extremely unefficient switch:\n",
    "        #3 parameter instructions\n",
    "        if opcode==1 or opcode==2 or opcode==7 or opcode==8:\n",
    "            #print(\"Opcode: \" + str(intcode[program_counter]))\n",
    "            param_1_mode=int(str(intcode[program_counter])[-3]) if\\\n",
    "            len(str(intcode[program_counter]))>=3 else 0\n",
    "            param_2_mode=int(str(intcode[program_counter])[-4]) if\\\n",
    "            len(str(intcode[program_counter]))>=4 else 0\n",
    "            \n",
    "            param_1=get_value(param_1_mode, intcode[program_counter+1], intcode)\n",
    "            param_2=get_value(param_2_mode, intcode[program_counter+2], intcode)\n",
    "            #The output parameter is always mode 0\n",
    "            param_3=intcode[program_counter+3]\n",
    "            #ADD\n",
    "            if opcode==1:\n",
    "                intcode[param_3]=param_1+param_2\n",
    "            #PRODUCT\n",
    "            elif opcode==2:\n",
    "                intcode[param_3]=param_1*param_2\n",
    "            #LESS THAN\n",
    "            elif opcode==7:\n",
    "                intcode[param_3]=1 if param_1<param_2 else 0\n",
    "            #EQUALS\n",
    "            elif opcode==8:\n",
    "                intcode[param_3]=1 if param_1==param_2 else 0\n",
    "            program_counter+=4\n",
    "        #2 parameter instructions\n",
    "        elif opcode==5 or opcode==6:\n",
    "            param_1_mode=int(str(intcode[program_counter])[-3]) if\\\n",
    "            len(str(intcode[program_counter]))>=3 else 0\n",
    "            param_2_mode=int(str(intcode[program_counter])[-4]) if\\\n",
    "            len(str(intcode[program_counter]))>=4 else 0\n",
    "            param_1=get_value(param_1_mode, intcode[program_counter+1], intcode)\n",
    "            param_2=get_value(param_2_mode, intcode[program_counter+2], intcode)\n",
    "            #JUMP IF TRUE\n",
    "            if opcode==5:\n",
    "                if param_1!=0:\n",
    "                    program_counter=param_2\n",
    "                else:\n",
    "                    program_counter+=3\n",
    "            #JUMP IF FALSE\n",
    "            elif opcode==6:\n",
    "                if param_1==0:\n",
    "                    program_counter=param_2\n",
    "                else:\n",
    "                    program_counter+=3\n",
    "                \n",
    "        #1 parameter instructions\n",
    "        elif opcode==3 or opcode==4:\n",
    "            #READ\n",
    "            if opcode==3:\n",
    "                param_1=intcode[program_counter+1]\n",
    "                #read_value = int(input())\n",
    "                read_value = amplifier_input.pop(0)\n",
    "                intcode[param_1] = read_value\n",
    "                program_counter+=2\n",
    "            #WRITE\n",
    "            elif opcode==4:\n",
    "                param_1_mode=int(str(intcode[program_counter])[-3:]) if\\\n",
    "                len(str(intcode[program_counter]))>=3 else 0\n",
    "                param_1=get_value(param_1_mode, intcode[program_counter+1], intcode)\n",
    "                #print(param_1)\n",
    "                #print(program_counter)\n",
    "                program_counter+=2\n",
    "                return param_1, program_counter, intcode, False\n",
    "            \n",
    "        elif opcode==99:\n",
    "            print(\"Program complete\")\n",
    "            return 0, 0, 0, True\n",
    "        else:\n",
    "            print(\"An error has occurred\")\n",
    "            break\n",
    "        "
   ]
  },
  {
   "cell_type": "code",
   "execution_count": 16,
   "metadata": {},
   "outputs": [],
   "source": [
    "def get_value(parameter_mode, parameter, intcode):\n",
    "    '''\n",
    "    Returns the value of the parameter based on it's mode. For mode\n",
    "    0 the value returned is the value stored in the memory (intcode)\n",
    "    position indicated by the parameter. For mode 1, the value of\n",
    "    the parameter is returned\n",
    "    '''\n",
    "    if parameter_mode==0:\n",
    "        return intcode[parameter]\n",
    "    elif parameter_mode==1:\n",
    "        return parameter"
   ]
  },
  {
   "cell_type": "code",
   "execution_count": 59,
   "metadata": {},
   "outputs": [
    {
     "name": "stdout",
     "output_type": "stream",
     "text": [
      "(5, 6, 7, 8, 9)\n"
     ]
    },
    {
     "ename": "KeyboardInterrupt",
     "evalue": "",
     "output_type": "error",
     "traceback": [
      "\u001b[0;31m---------------------------------------------------------------------------\u001b[0m",
      "\u001b[0;31mKeyboardInterrupt\u001b[0m                         Traceback (most recent call last)",
      "\u001b[0;32m<ipython-input-59-18e648279e20>\u001b[0m in \u001b[0;36m<module>\u001b[0;34m\u001b[0m\n\u001b[1;32m     26\u001b[0m         \u001b[0;32mfor\u001b[0m \u001b[0mamplifier\u001b[0m \u001b[0;32min\u001b[0m \u001b[0mrange\u001b[0m\u001b[0;34m(\u001b[0m\u001b[0;36m5\u001b[0m\u001b[0;34m)\u001b[0m\u001b[0;34m:\u001b[0m\u001b[0;34m\u001b[0m\u001b[0;34m\u001b[0m\u001b[0m\n\u001b[1;32m     27\u001b[0m             \u001b[0mnext_input\u001b[0m\u001b[0;34m,\u001b[0m \u001b[0mpc\u001b[0m\u001b[0;34m,\u001b[0m \u001b[0mstate\u001b[0m\u001b[0;34m,\u001b[0m \u001b[0mfinished\u001b[0m\u001b[0;34m=\u001b[0m\u001b[0;31m\\\u001b[0m\u001b[0;34m\u001b[0m\u001b[0;34m\u001b[0m\u001b[0m\n\u001b[0;32m---> 28\u001b[0;31m             \u001b[0mrun_program\u001b[0m\u001b[0;34m(\u001b[0m\u001b[0mamplifier_state\u001b[0m\u001b[0;34m[\u001b[0m\u001b[0mamplifier\u001b[0m\u001b[0;34m]\u001b[0m\u001b[0;34m,\u001b[0m \u001b[0;34m[\u001b[0m\u001b[0mnext_input\u001b[0m\u001b[0;34m]\u001b[0m\u001b[0;34m,\u001b[0m \u001b[0mamplifier_pc\u001b[0m\u001b[0;34m[\u001b[0m\u001b[0mamplifier\u001b[0m\u001b[0;34m]\u001b[0m\u001b[0;34m)\u001b[0m\u001b[0;34m\u001b[0m\u001b[0;34m\u001b[0m\u001b[0m\n\u001b[0m\u001b[1;32m     29\u001b[0m             \u001b[0;31m#Since the last thing returned will be a 0, append all outputs here\u001b[0m\u001b[0;34m\u001b[0m\u001b[0;34m\u001b[0m\u001b[0;34m\u001b[0m\u001b[0m\n\u001b[1;32m     30\u001b[0m             \u001b[0;31m#print(\"PC out: \" + str(pc))\u001b[0m\u001b[0;34m\u001b[0m\u001b[0;34m\u001b[0m\u001b[0;34m\u001b[0m\u001b[0m\n",
      "\u001b[0;31mKeyboardInterrupt\u001b[0m: "
     ]
    }
   ],
   "source": [
    "f = open(\"input\")\n",
    "intcode = [int(i) for i in f.read().split(\",\")]\n",
    "f.close()\n",
    "#intcode=[3,26,1001,26,-4,26,3,27,1002,27,2,27,1,27,26,\n",
    "#27,4,27,1001,28,-1,28,1005,28,6,99,0,0,5]\n",
    "#Possible outputs\n",
    "outputs=[]\n",
    "#possible phase setting combinations\n",
    "a=[5,6,7,8,9]\n",
    "phase_setting_combinations = list(itertools.permutations(a))\n",
    "for combination in phase_setting_combinations:\n",
    "    print(combination)\n",
    "    combination = list(combination)\n",
    "    #First go-around:\n",
    "    a1_output, a1_pc, a1_memory, f = run_program([i for i in intcode], [combination.pop(0), 0])\n",
    "    a2_output, a2_pc, a2_memory, f = run_program([i for i in intcode], [combination.pop(0), a1_output])\n",
    "    a3_output, a3_pc, a3_memory, f = run_program([i for i in intcode], [combination.pop(0), a2_output])\n",
    "    a4_output, a4_pc, a4_memory, f = run_program([i for i in intcode], [combination.pop(0), a3_output])\n",
    "    a5_output, a5_pc, a5_memory, f = run_program([i for i in intcode], [combination.pop(0), a4_output])\n",
    "    next_input=a5_output\n",
    "    amplifier_state=[a1_memory, a2_memory, a3_memory, a4_memory, a5_memory]\n",
    "    amplifier_pc=[a1_pc, a2_pc, a3_pc, a4_pc, a5_pc]\n",
    "    #print(run_program(amplifier_state[0], [6], 124))\n",
    "    #Run until each amplifier stops\n",
    "    while True:\n",
    "        for amplifier in range(5):\n",
    "            next_input, pc, state, finished=\\\n",
    "            run_program(amplifier_state[amplifier], [next_input], amplifier_pc[amplifier])\n",
    "            #Since the last thing returned will be a 0, append all outputs here\n",
    "            #print(\"PC out: \" + str(pc))\n",
    "            amplifier_pc[amplifier]=pc\n",
    "            amplifier_state[amplifier]=state\n",
    "            outputs.append(next_input)\n",
    "            #print(next_input)\n",
    "            if finished:\n",
    "                break\n",
    "        if finished:\n",
    "            break\n",
    "np.max(outputs)"
   ]
  },
  {
   "cell_type": "code",
   "execution_count": null,
   "metadata": {},
   "outputs": [],
   "source": []
  },
  {
   "cell_type": "code",
   "execution_count": null,
   "metadata": {},
   "outputs": [],
   "source": []
  }
 ],
 "metadata": {
  "kernelspec": {
   "display_name": "Python 3",
   "language": "python",
   "name": "python3"
  },
  "language_info": {
   "codemirror_mode": {
    "name": "ipython",
    "version": 3
   },
   "file_extension": ".py",
   "mimetype": "text/x-python",
   "name": "python",
   "nbconvert_exporter": "python",
   "pygments_lexer": "ipython3",
   "version": "3.7.3"
  }
 },
 "nbformat": 4,
 "nbformat_minor": 2
}
