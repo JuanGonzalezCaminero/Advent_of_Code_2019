{
 "cells": [
  {
   "cell_type": "code",
   "execution_count": 46,
   "metadata": {},
   "outputs": [],
   "source": [
    "f=open(\"input\")\n",
    "orbits=f.read()\n",
    "f.close()\n",
    "orbits = orbits.split(\"\\n\")\n",
    "orbits = [o.split(')') for o in orbits]"
   ]
  },
  {
   "cell_type": "code",
   "execution_count": null,
   "metadata": {},
   "outputs": [],
   "source": [
    "def transfers_count(current_node, target_node, queued_nodes, orbits):\n",
    "    "
   ]
  },
  {
   "cell_type": "code",
   "execution_count": 47,
   "metadata": {},
   "outputs": [
    {
     "data": {
      "text/plain": [
       "301100"
      ]
     },
     "execution_count": 47,
     "metadata": {},
     "output_type": "execute_result"
    }
   ],
   "source": [
    "def orbit_count(current_node, depth, orbits):\n",
    "    queued_nodes = []\n",
    "    count=0\n",
    "    for o in orbits:\n",
    "        if o[0] == current_node:\n",
    "            queued_nodes.append(o[1])\n",
    "            count+=1+depth\n",
    "    while True:\n",
    "        try:\n",
    "            next_node = queued_nodes.pop(0)\n",
    "            count+=orbit_count(next_node, depth+1, orbits)\n",
    "        except:\n",
    "            break\n",
    "    return count\n",
    "orbit_count(\"COM\", 0, orbits)"
   ]
  },
  {
   "cell_type": "code",
   "execution_count": 34,
   "metadata": {},
   "outputs": [],
   "source": [
    "'''\n",
    "class Tree_node:\n",
    "    def __init__(self, name, parent):\n",
    "        self.name=name\n",
    "        self.parent=parent\n",
    "        self.children=[]\n",
    "        return\n",
    "'''"
   ]
  },
  {
   "cell_type": "code",
   "execution_count": 32,
   "metadata": {},
   "outputs": [],
   "source": [
    "'''\n",
    "class Tree:\n",
    "    def __init__(self):\n",
    "        self.nodes = {\"COM\":Tree_node(\"COM\", None)}\n",
    "        return\n",
    "    def get(self, node_name):\n",
    "        return self.nodes[node_name]\n",
    "    def add_node(self, node_name, parent_name):\n",
    "        self.nodes[node_name]=Tree_node(node_name, self.nodes[parent_name])\n",
    "        self.nodes[parent_name].children.append(self.nodes[node_name])\n",
    "        return\n",
    "'''"
   ]
  },
  {
   "cell_type": "code",
   "execution_count": 48,
   "metadata": {},
   "outputs": [
    {
     "data": {
      "text/plain": [
       "'\\ntree = Tree()\\ncurrent_node = \"COM\"\\nqueued_nodes = []\\norbit_count=0\\ndepth=0\\nwhile True:\\n    for o in orbits:\\n        if o[0] == current_node:\\n            tree.add_node(o[1], current_node)\\n            queued_nodes.append(o[1])\\n            orbit_count+=1\\n    try:\\n        current_node = queued_nodes.pop(0)\\n    except:\\n        break\\norbit_count\\n'"
      ]
     },
     "execution_count": 48,
     "metadata": {},
     "output_type": "execute_result"
    }
   ],
   "source": [
    "'''\n",
    "tree = Tree()\n",
    "current_node = \"COM\"\n",
    "queued_nodes = []\n",
    "orbit_count=0\n",
    "depth=0\n",
    "while True:\n",
    "    for o in orbits:\n",
    "        if o[0] == current_node:\n",
    "            tree.add_node(o[1], current_node)\n",
    "            queued_nodes.append(o[1])\n",
    "            orbit_count+=1\n",
    "    try:\n",
    "        current_node = queued_nodes.pop(0)\n",
    "    except:\n",
    "        break\n",
    "orbit_count\n",
    "'''"
   ]
  }
 ],
 "metadata": {
  "kernelspec": {
   "display_name": "Python 3",
   "language": "python",
   "name": "python3"
  },
  "language_info": {
   "codemirror_mode": {
    "name": "ipython",
    "version": 3
   },
   "file_extension": ".py",
   "mimetype": "text/x-python",
   "name": "python",
   "nbconvert_exporter": "python",
   "pygments_lexer": "ipython3",
   "version": "3.7.3"
  }
 },
 "nbformat": 4,
 "nbformat_minor": 2
}
