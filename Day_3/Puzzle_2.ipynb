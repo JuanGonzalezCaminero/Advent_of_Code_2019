{
 "cells": [
  {
   "cell_type": "code",
   "execution_count": 21,
   "metadata": {},
   "outputs": [],
   "source": [
    "import numpy as np\n",
    "import itertools\n",
    "import math"
   ]
  },
  {
   "cell_type": "code",
   "execution_count": 34,
   "metadata": {},
   "outputs": [],
   "source": [
    "f=open(\"input\")\n",
    "wires=[line.split(\",\") for line in f.readlines()]\n",
    "f.close()\n",
    "#wires=[['R8','U5','L5','D3'],['U7','R6','D4','L4']]\n",
    "#wires=[['R75','D30','R83','U83','L12','D49','R71','U7','L72'],\n",
    "#['U62','R66','U55','R34','D71','R55','D58','R83']]\n",
    "for i in range(len(wires)):\n",
    "    wires[i] = [move.strip('\\n') for move in wires[i]]\n",
    "#wires"
   ]
  },
  {
   "cell_type": "code",
   "execution_count": 35,
   "metadata": {},
   "outputs": [
    {
     "data": {
      "text/plain": [
       "48262"
      ]
     },
     "execution_count": 35,
     "metadata": {},
     "output_type": "execute_result"
    }
   ],
   "source": [
    "central_point=(0,0)\n",
    "all_visited_cells = set()\n",
    "all_visited_cells_list = []\n",
    "intersections = []\n",
    "for wire in wires:\n",
    "    previous_point=central_point\n",
    "    visited_cells = set()\n",
    "    visited_cells_list = []\n",
    "    for move in wire:\n",
    "        if move[0] == 'L':\n",
    "            cells = [(previous_point[0],previous_point[1]-i) for i in range(1,int(move[1:])+1)]\n",
    "            previous_point=[previous_point[0], previous_point[1]-int(move[1:])]\n",
    "        elif move[0] == 'R':\n",
    "            cells = [(previous_point[0],previous_point[1]+i) for i in range(1,int(move[1:])+1)]\n",
    "            previous_point=[previous_point[0], previous_point[1]+int(move[1:])]\n",
    "        elif move[0] == 'D':\n",
    "            cells = [(previous_point[0]+i,previous_point[1]) for i in range(1,int(move[1:])+1)]\n",
    "            previous_point=[previous_point[0]+int(move[1:]), previous_point[1]]\n",
    "        elif move[0] == 'U':\n",
    "            cells = [(previous_point[0]-i,previous_point[1]) for i in range(1,int(move[1:])+1)]\n",
    "            previous_point=[previous_point[0]-int(move[1:]), previous_point[1]]\n",
    "        visited_cells_list.extend(cells)\n",
    "        visited_cells = visited_cells|set(tuple(cells))\n",
    "    #storing the intersections\n",
    "    intersections.extend(list(visited_cells & all_visited_cells))\n",
    "    #Add the cells to the global list\n",
    "    all_visited_cells = all_visited_cells|visited_cells\n",
    "    #Store the list of cells visited by this wire\n",
    "    all_visited_cells_list.append(visited_cells_list)\n",
    "min_steps = math.inf\n",
    "for intersection in intersections:\n",
    "    steps = all_visited_cells_list[0].index(intersection)+ 1 + all_visited_cells_list[1].index(intersection)+ 1\n",
    "    if steps<min_steps:\n",
    "        min_steps=steps\n",
    "min_steps"
   ]
  }
 ],
 "metadata": {
  "kernelspec": {
   "display_name": "Python 3",
   "language": "python",
   "name": "python3"
  },
  "language_info": {
   "codemirror_mode": {
    "name": "ipython",
    "version": 3
   },
   "file_extension": ".py",
   "mimetype": "text/x-python",
   "name": "python",
   "nbconvert_exporter": "python",
   "pygments_lexer": "ipython3",
   "version": "3.7.3"
  }
 },
 "nbformat": 4,
 "nbformat_minor": 2
}
