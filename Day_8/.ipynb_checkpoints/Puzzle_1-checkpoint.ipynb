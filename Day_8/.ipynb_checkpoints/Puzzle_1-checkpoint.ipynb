{
 "cells": [
  {
   "cell_type": "code",
   "execution_count": 2,
   "metadata": {},
   "outputs": [],
   "source": [
    "import numpy as np"
   ]
  },
  {
   "cell_type": "code",
   "execution_count": 38,
   "metadata": {},
   "outputs": [],
   "source": [
    "f = open(\"input\")\n",
    "image = f.read()\n",
    "f.close()\n",
    "image = image.replace(\"\\n\", \"\")\n",
    "image = [int(image[i]) for i in range(len(image))]\n",
    "image=[[image[layer*150+i*25: layer*150+i*25+25] for i in range(6)]\\\n",
    "                for layer in range(int(len(image)/150))]"
   ]
  },
  {
   "cell_type": "code",
   "execution_count": 47,
   "metadata": {},
   "outputs": [],
   "source": [
    "image=np.array(image)"
   ]
  },
  {
   "cell_type": "code",
   "execution_count": 53,
   "metadata": {},
   "outputs": [
    {
     "data": {
      "text/plain": [
       "1716"
      ]
     },
     "execution_count": 53,
     "metadata": {},
     "output_type": "execute_result"
    }
   ],
   "source": [
    "sum_of_zeros = []\n",
    "for layer in image:\n",
    "    sum_of_zeros.append(0)\n",
    "    for scanline in layer:\n",
    "        sum_of_zeros[-1]+=np.sum(scanline==0)\n",
    "target_layer = np.argmin(sum_of_zeros)\n",
    "sum_of_1 = 0\n",
    "sum_of_2 = 0\n",
    "for scanline in image[target_layer]:\n",
    "    sum_of_1+=np.sum(scanline==1)\n",
    "    sum_of_2+=np.sum(scanline==2)\n",
    "sum_of_1*sum_of_2"
   ]
  },
  {
   "cell_type": "markdown",
   "metadata": {},
   "source": [
    "### The Numpy Approach"
   ]
  },
  {
   "cell_type": "code",
   "execution_count": 71,
   "metadata": {},
   "outputs": [
    {
     "data": {
      "text/plain": [
       "1716"
      ]
     },
     "execution_count": 71,
     "metadata": {},
     "output_type": "execute_result"
    }
   ],
   "source": [
    "target_layer=np.argmin([np.sum(np.concatenate(image[layer])==0) for layer in range(100)])\n",
    "np.sum(np.concatenate(image[target_layer])==1)*np.sum(np.concatenate(image[target_layer])==2)"
   ]
  }
 ],
 "metadata": {
  "kernelspec": {
   "display_name": "Python 3",
   "language": "python",
   "name": "python3"
  },
  "language_info": {
   "codemirror_mode": {
    "name": "ipython",
    "version": 3
   },
   "file_extension": ".py",
   "mimetype": "text/x-python",
   "name": "python",
   "nbconvert_exporter": "python",
   "pygments_lexer": "ipython3",
   "version": "3.7.3"
  }
 },
 "nbformat": 4,
 "nbformat_minor": 2
}
