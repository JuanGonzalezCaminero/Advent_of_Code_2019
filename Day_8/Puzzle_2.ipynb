{
 "cells": [
  {
   "cell_type": "code",
   "execution_count": 77,
   "metadata": {},
   "outputs": [],
   "source": [
    "import numpy as np\n",
    "import itertools"
   ]
  },
  {
   "cell_type": "code",
   "execution_count": 47,
   "metadata": {},
   "outputs": [],
   "source": [
    "f = open(\"input\")\n",
    "image = f.read()\n",
    "f.close()\n",
    "image = image.replace(\"\\n\", \"\")\n",
    "image = [int(image[i]) for i in range(len(image))]\n",
    "image=[[image[layer*150+i*25: layer*150+i*25+25] for i in range(6)]\\\n",
    "                for layer in range(int(len(image)/150))]"
   ]
  },
  {
   "cell_type": "code",
   "execution_count": 48,
   "metadata": {},
   "outputs": [
    {
     "name": "stdout",
     "output_type": "stream",
     "text": [
      "■  ■ ■■■■  ■■  ■■■  ■   ■\n",
      "■ ■  ■    ■  ■ ■  ■ ■   ■\n",
      "■■   ■■■  ■  ■ ■■■   ■ ■ \n",
      "■ ■  ■    ■■■■ ■  ■   ■  \n",
      "■ ■  ■    ■  ■ ■  ■   ■  \n",
      "■  ■ ■    ■  ■ ■■■    ■  \n"
     ]
    }
   ],
   "source": [
    "decoded_image = []\n",
    "for scanline in range(6):\n",
    "    decoded_image.append(\"\")\n",
    "    for pixel in range(25):\n",
    "        for layer in range(100):\n",
    "            if image[layer][scanline][pixel]==0:\n",
    "                #decoded_image[scanline]+=\"□\"\n",
    "                decoded_image[scanline]+=\" \"\n",
    "                break\n",
    "            if image[layer][scanline][pixel]==1:\n",
    "                decoded_image[scanline]+=\"■\"\n",
    "                break\n",
    "for scanline in decoded_image:\n",
    "    print(scanline)"
   ]
  },
  {
   "cell_type": "markdown",
   "metadata": {},
   "source": [
    "### The Numpy Approach"
   ]
  },
  {
   "cell_type": "code",
   "execution_count": 104,
   "metadata": {},
   "outputs": [
    {
     "name": "stdout",
     "output_type": "stream",
     "text": [
      "■  ■ ■■■■  ■■  ■■■  ■   ■\n",
      "■ ■  ■    ■  ■ ■  ■ ■   ■\n",
      "■■   ■■■  ■  ■ ■■■   ■ ■ \n",
      "■ ■  ■    ■■■■ ■  ■   ■  \n",
      "■ ■  ■    ■  ■ ■  ■   ■  \n",
      "■  ■ ■    ■  ■ ■■■    ■  \n"
     ]
    }
   ],
   "source": [
    "np_image = np.array(image)\n",
    "decoded_image = [[\"■\" if pixel_stack[pixel_stack!=2][0]==1 else \" \" for pixel_stack in [np_image[:,:,pixel][:,scanline] for pixel in range(25)]] for scanline in range(6)]                                                                     \n",
    "for scanline in decoded_image:\n",
    "    print(\"\".join(scanline))"
   ]
  }
 ],
 "metadata": {
  "kernelspec": {
   "display_name": "Python 3",
   "language": "python",
   "name": "python3"
  },
  "language_info": {
   "codemirror_mode": {
    "name": "ipython",
    "version": 3
   },
   "file_extension": ".py",
   "mimetype": "text/x-python",
   "name": "python",
   "nbconvert_exporter": "python",
   "pygments_lexer": "ipython3",
   "version": "3.7.3"
  }
 },
 "nbformat": 4,
 "nbformat_minor": 2
}
