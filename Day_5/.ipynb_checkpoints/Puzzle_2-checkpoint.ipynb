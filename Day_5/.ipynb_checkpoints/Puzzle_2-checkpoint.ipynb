{
 "cells": [
  {
   "cell_type": "code",
   "execution_count": 5,
   "metadata": {},
   "outputs": [
    {
     "name": "stdout",
     "output_type": "stream",
     "text": [
      "1\n",
      "None\n",
      "0\n",
      "0\n",
      "0\n",
      "0\n",
      "0\n",
      "0\n",
      "0\n",
      "0\n",
      "16574641\n",
      "Program complete\n"
     ]
    }
   ],
   "source": [
    "f = open(\"input\")\n",
    "intcode = [int(i) for i in f.read().split(\",\")]\n",
    "f.close()\n",
    "#intcode = [1101,100,-1,4,0]\n",
    "run_program(intcode)\n",
    "#intcode"
   ]
  },
  {
   "cell_type": "code",
   "execution_count": 6,
   "metadata": {},
   "outputs": [],
   "source": [
    " def run_program(intcode):\n",
    "    program_counter=0\n",
    "    #Execute the program\n",
    "    while True:\n",
    "        opcode=int(str(intcode[program_counter])[-2:])\n",
    "        #Extremely unefficient switch:\n",
    "        #3 parameter instructions\n",
    "        if opcode==1 or opcode==2 or opcode==7 or opcode==8:\n",
    "            #print(\"Opcode: \" + str(intcode[program_counter]))\n",
    "            param_1_mode=int(str(intcode[program_counter])[-3]) if\\\n",
    "            len(str(intcode[program_counter]))>=3 else 0\n",
    "            param_2_mode=int(str(intcode[program_counter])[-4]) if\\\n",
    "            len(str(intcode[program_counter]))>=4 else 0\n",
    "            \n",
    "            param_1=get_value(param_1_mode, intcode[program_counter+1], intcode)\n",
    "            param_2=get_value(param_2_mode, intcode[program_counter+2], intcode)\n",
    "            #The output parameter is always mode 0\n",
    "            param_3=intcode[program_counter+3]\n",
    "            #ADD\n",
    "            if opcode==1:\n",
    "                intcode[param_3]=param_1+param_2\n",
    "            #PRODUCT\n",
    "            elif opcode==2:\n",
    "                intcode[param_3]=param_1*param_2\n",
    "            #LESS THAN\n",
    "            elif opcode==7:\n",
    "                intcode[param_3]=1 if param_1<param_2 else 0\n",
    "            #EQUALS\n",
    "            elif opcode==8:\n",
    "                intcode[param_3]=1 if param_1==param_2 else 0\n",
    "            program_counter+=4\n",
    "        #2 parameter instructions\n",
    "        elif opcode==5 or opcode==6:\n",
    "            param_1_mode=int(str(intcode[program_counter])[-3]) if\\\n",
    "            len(str(intcode[program_counter]))>=3 else 0\n",
    "            param_2_mode=int(str(intcode[program_counter])[-4]) if\\\n",
    "            len(str(intcode[program_counter]))>=4 else 0\n",
    "            param_1=get_value(param_1_mode, intcode[program_counter+1], intcode)\n",
    "            param_2=get_value(param_2_mode, intcode[program_counter+2], intcode)\n",
    "            #JUMP IF TRUE\n",
    "            if opcode==5:\n",
    "                if param_1!=0:\n",
    "                    program_counter=param_2\n",
    "                else:\n",
    "                    program_counter+=3\n",
    "            #JUMP IF FALSE\n",
    "            elif opcode==6:\n",
    "                if param_1==0:\n",
    "                    program_counter=param_2\n",
    "                else:\n",
    "                    program_counter+=3\n",
    "                \n",
    "        #1 parameter instructions\n",
    "        elif opcode==3 or opcode==4:\n",
    "            #READ\n",
    "            if opcode==3:\n",
    "                param_1=intcode[program_counter+1]\n",
    "                read_value = int(input())\n",
    "                intcode[param_1] = read_value\n",
    "            #WRITE\n",
    "            elif opcode==4:\n",
    "                param_1_mode=int(str(intcode[program_counter])[-3:]) if\\\n",
    "                len(str(intcode[program_counter]))>=3 else 0\n",
    "                param_1=get_value(param_1_mode, intcode[program_counter+1], intcode)\n",
    "                print(param_1)\n",
    "            program_counter+=2\n",
    "        elif opcode==99:\n",
    "            print(\"Program complete\")\n",
    "            break\n",
    "        else:\n",
    "            print(\"An error ha occurred\")\n",
    "            break\n",
    "        "
   ]
  },
  {
   "cell_type": "code",
   "execution_count": 1,
   "metadata": {},
   "outputs": [],
   "source": [
    "def get_value(parameter_mode, parameter, intcode):\n",
    "    '''\n",
    "    Returns the value of the parameter based on it's mode. For mode\n",
    "    0 the value returned is the value stored in the memory (intcode)\n",
    "    position indicated by the parameter. For mode 1, the value of\n",
    "    the parameter is returned\n",
    "    '''\n",
    "    if parameter_mode==0:\n",
    "        return intcode[parameter]\n",
    "    elif parameter_mode==1:\n",
    "        return parameter"
   ]
  }
 ],
 "metadata": {
  "kernelspec": {
   "display_name": "Python 3",
   "language": "python",
   "name": "python3"
  },
  "language_info": {
   "codemirror_mode": {
    "name": "ipython",
    "version": 3
   },
   "file_extension": ".py",
   "mimetype": "text/x-python",
   "name": "python",
   "nbconvert_exporter": "python",
   "pygments_lexer": "ipython3",
   "version": "3.7.3"
  }
 },
 "nbformat": 4,
 "nbformat_minor": 2
}
