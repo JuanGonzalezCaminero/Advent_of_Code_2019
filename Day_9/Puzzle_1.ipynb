{
 "cells": [
  {
   "cell_type": "code",
   "execution_count": 1,
   "metadata": {},
   "outputs": [],
   "source": []
  },
  {
   "cell_type": "code",
   "execution_count": 125,
   "metadata": {},
   "outputs": [],
   "source": [
    "class Intcode_computer:\n",
    "    def __init__(self, intcode):\n",
    "        #Append as many zeros after the code to the memory as the length \n",
    "        #of the original memory\n",
    "        self.intcode = intcode\n",
    "        self.intcode.extend([0 for i in range(100*len(intcode))])\n",
    "        self.relative_base = 0\n",
    "        self.program_counter = 0\n",
    "    def run_program(self):\n",
    "        #Execute the program\n",
    "        while True:\n",
    "            opcode=int(str(self.intcode[self.program_counter])[-2:])\n",
    "            #Extremely unefficient switch:\n",
    "            #3 parameter instructions\n",
    "            if opcode==1 or opcode==2 or opcode==7 or opcode==8:\n",
    "                #print(\"Opcode: \" + str(intcode[program_counter]))\n",
    "                param_1_mode=int(str(self.intcode[self.program_counter])[-3]) if\\\n",
    "                len(str(self.intcode[self.program_counter]))>=3 else 0\n",
    "                param_2_mode=int(str(self.intcode[self.program_counter])[-4]) if\\\n",
    "                len(str(self.intcode[self.program_counter]))>=4 else 0\n",
    "                param_3_mode=int(str(self.intcode[self.program_counter])[-5]) if\\\n",
    "                len(str(self.intcode[self.program_counter]))>=5 else 0\n",
    "\n",
    "                param_1=self.get_value(param_1_mode, self.intcode[self.program_counter+1])\n",
    "                param_2=self.get_value(param_2_mode, self.intcode[self.program_counter+2])\n",
    "                \n",
    "                #The last parameter is for writing, so we don't need the value of the\n",
    "                #position it points to but the index of that position, which will be\n",
    "                #the parameter itself in mode 0 and the parameter plus the base in mode 2\n",
    "                if param_3_mode==0:\n",
    "                    param_3=intcode[self.program_counter+3]\n",
    "                elif param_3_mode==2:\n",
    "                    param_3=intcode[self.program_counter+3]+self.relative_base\n",
    "                #ADD\n",
    "                if opcode==1:\n",
    "                    self.intcode[param_3]=param_1+param_2\n",
    "                #PRODUCT\n",
    "                elif opcode==2:\n",
    "                    self.intcode[param_3]=param_1*param_2\n",
    "                #LESS THAN\n",
    "                elif opcode==7:\n",
    "                    self.intcode[param_3]=1 if param_1<param_2 else 0\n",
    "                #EQUALS\n",
    "                elif opcode==8:\n",
    "                    self.intcode[param_3]=1 if param_1==param_2 else 0\n",
    "                self.program_counter+=4\n",
    "            #2 parameter instructions\n",
    "            elif opcode==5 or opcode==6:\n",
    "                param_1_mode=int(str(self.intcode[self.program_counter])[-3]) if\\\n",
    "                len(str(self.intcode[self.program_counter]))>=3 else 0\n",
    "                param_2_mode=int(str(self.intcode[self.program_counter])[-4]) if\\\n",
    "                len(str(self.intcode[self.program_counter]))>=4 else 0\n",
    "                param_1=self.get_value(param_1_mode, self.intcode[self.program_counter+1])\n",
    "                param_2=self.get_value(param_2_mode, self.intcode[self.program_counter+2])\n",
    "                #JUMP IF TRUE\n",
    "                if opcode==5:\n",
    "                    if param_1!=0:\n",
    "                        self.program_counter=param_2\n",
    "                    else:\n",
    "                        self.program_counter+=3\n",
    "                #JUMP IF FALSE\n",
    "                elif opcode==6:\n",
    "                    if param_1==0:\n",
    "                        self.program_counter=param_2\n",
    "                    else:\n",
    "                        self.program_counter+=3\n",
    "\n",
    "            #1 parameter instructions\n",
    "            elif opcode==3 or opcode==4 or opcode==9:\n",
    "                #READ\n",
    "                if opcode==3:\n",
    "                    param_1_mode=int(str(self.intcode[self.program_counter])[-3]) if\\\n",
    "                    len(str(self.intcode[self.program_counter]))>=3 else 0\n",
    "                    if param_1_mode==0:\n",
    "                        self.intcode[self.intcode[self.program_counter+1]] = int(input())\n",
    "                    elif param_1_mode==2:\n",
    "                        self.intcode[self.intcode[self.program_counter+1]+self.relative_base] =\\\n",
    "                            int(input())\n",
    "                #WRITE\n",
    "                elif opcode==4:\n",
    "                    param_1_mode=int(str(self.intcode[self.program_counter])[-3]) if\\\n",
    "                    len(str(self.intcode[self.program_counter]))>=3 else 0\n",
    "                    param_1=self.get_value(param_1_mode, self.intcode[self.program_counter+1])\n",
    "                    print(param_1)\n",
    "                #INCREASE RELATIVE BASE VALUE\n",
    "                elif opcode==9:\n",
    "                    param_1_mode=int(str(self.intcode[self.program_counter])[-3]) if\\\n",
    "                    len(str(self.intcode[self.program_counter]))>=3 else 0\n",
    "                    param_1=self.get_value(param_1_mode, self.intcode[self.program_counter+1])\n",
    "                    self.relative_base+=param_1\n",
    "                self.program_counter+=2\n",
    "            elif opcode==99:\n",
    "                print(\"Program complete\")\n",
    "                break\n",
    "            else:\n",
    "                print(\"An error has occurred\")\n",
    "                break\n",
    "    def get_value(self, parameter_mode, parameter):\n",
    "        '''\n",
    "        Returns the value of the parameter based on it's mode. For mode\n",
    "        0 the value returned is the value stored in the memory (intcode)\n",
    "        position indicated by the parameter. For mode 1, the value of\n",
    "        the parameter is returned\n",
    "        '''\n",
    "        if parameter_mode==0:\n",
    "            return self.intcode[parameter]\n",
    "        elif parameter_mode==1:\n",
    "            return parameter\n",
    "        elif parameter_mode==2:\n",
    "            return self.intcode[parameter+self.relative_base]\n",
    "        "
   ]
  },
  {
   "cell_type": "code",
   "execution_count": 128,
   "metadata": {},
   "outputs": [
    {
     "name": "stdout",
     "output_type": "stream",
     "text": [
      "2\n",
      "32869\n",
      "Program complete\n"
     ]
    }
   ],
   "source": [
    "f = open(\"input\")\n",
    "intcode = [int(i) for i in f.read().split(\",\")]\n",
    "f.close()\n",
    "#intcode = [109,1,204,-1,1001,100,1,100,1008,100,16,101,1006,101,0,99]\n",
    "computer = Intcode_computer(intcode)\n",
    "computer.run_program()"
   ]
  },
  {
   "cell_type": "code",
   "execution_count": 2,
   "metadata": {},
   "outputs": [
    {
     "ename": "NameError",
     "evalue": "name 'Intcode_computer' is not defined",
     "output_type": "error",
     "traceback": [
      "\u001b[0;31m---------------------------------------------------------------------------\u001b[0m",
      "\u001b[0;31mNameError\u001b[0m                                 Traceback (most recent call last)",
      "\u001b[0;32m<ipython-input-2-647753a43157>\u001b[0m in \u001b[0;36m<module>\u001b[0;34m\u001b[0m\n\u001b[1;32m      3\u001b[0m \u001b[0mf\u001b[0m\u001b[0;34m.\u001b[0m\u001b[0mclose\u001b[0m\u001b[0;34m(\u001b[0m\u001b[0;34m)\u001b[0m\u001b[0;34m\u001b[0m\u001b[0;34m\u001b[0m\u001b[0m\n\u001b[1;32m      4\u001b[0m \u001b[0mscreen\u001b[0m \u001b[0;34m=\u001b[0m \u001b[0mnp\u001b[0m\u001b[0;34m.\u001b[0m\u001b[0mzeros\u001b[0m\u001b[0;34m(\u001b[0m\u001b[0;34m(\u001b[0m\u001b[0;36m100\u001b[0m\u001b[0;34m,\u001b[0m\u001b[0;36m100\u001b[0m\u001b[0;34m)\u001b[0m\u001b[0;34m)\u001b[0m\u001b[0;34m\u001b[0m\u001b[0;34m\u001b[0m\u001b[0m\n\u001b[0;32m----> 5\u001b[0;31m \u001b[0mcomputer\u001b[0m \u001b[0;34m=\u001b[0m \u001b[0mIntcode_computer\u001b[0m\u001b[0;34m(\u001b[0m\u001b[0mintcode\u001b[0m\u001b[0;34m,\u001b[0m \u001b[0mscreen\u001b[0m\u001b[0;34m)\u001b[0m\u001b[0;34m\u001b[0m\u001b[0;34m\u001b[0m\u001b[0m\n\u001b[0m\u001b[1;32m      6\u001b[0m \u001b[0mcomputer\u001b[0m\u001b[0;34m.\u001b[0m\u001b[0mrun_program\u001b[0m\u001b[0;34m(\u001b[0m\u001b[0;34m)\u001b[0m\u001b[0;34m\u001b[0m\u001b[0;34m\u001b[0m\u001b[0m\n",
      "\u001b[0;31mNameError\u001b[0m: name 'Intcode_computer' is not defined"
     ]
    }
   ],
   "source": [
    "f = open(\"../Day_5/input\")\n",
    "intcode = [int(i) for i in f.read().split(\",\")]\n",
    "f.close()\n",
    "computer = Intcode_computer(intcode, screen)\n",
    "computer.run_program()"
   ]
  },
  {
   "cell_type": "code",
   "execution_count": null,
   "metadata": {},
   "outputs": [],
   "source": []
  },
  {
   "cell_type": "code",
   "execution_count": null,
   "metadata": {},
   "outputs": [],
   "source": []
  },
  {
   "cell_type": "code",
   "execution_count": null,
   "metadata": {},
   "outputs": [],
   "source": []
  },
  {
   "cell_type": "code",
   "execution_count": null,
   "metadata": {},
   "outputs": [],
   "source": []
  }
 ],
 "metadata": {
  "kernelspec": {
   "display_name": "Python 3",
   "language": "python",
   "name": "python3"
  },
  "language_info": {
   "codemirror_mode": {
    "name": "ipython",
    "version": 3
   },
   "file_extension": ".py",
   "mimetype": "text/x-python",
   "name": "python",
   "nbconvert_exporter": "python",
   "pygments_lexer": "ipython3",
   "version": "3.7.3"
  }
 },
 "nbformat": 4,
 "nbformat_minor": 2
}
