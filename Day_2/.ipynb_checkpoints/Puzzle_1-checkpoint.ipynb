{
 "cells": [
  {
   "cell_type": "code",
   "execution_count": null,
   "metadata": {},
   "outputs": [],
   "source": []
  },
  {
   "cell_type": "code",
   "execution_count": 15,
   "metadata": {},
   "outputs": [
    {
     "name": "stdout",
     "output_type": "stream",
     "text": [
      "Program complete\n",
      "[3895705, 12, 2, 2, 1, 1, 2, 3, 1, 3, 4, 3, 1, 5, 0, 3, 2, 1, 9, 36, 1, 19, 5, 37, 2, 23, 13, 185, 1, 10, 27, 189, 2, 31, 6, 378, 1, 5, 35, 379, 1, 39, 10, 383, 2, 9, 43, 1149, 1, 47, 5, 1150, 2, 51, 9, 3450, 1, 13, 55, 3455, 1, 13, 59, 3460, 1, 6, 63, 3462, 2, 13, 67, 17310, 1, 10, 71, 17314, 2, 13, 75, 86570, 1, 5, 79, 86571, 2, 83, 9, 259713, 2, 87, 13, 1298565, 1, 91, 5, 1298566, 2, 9, 95, 3895698, 1, 99, 5, 3895699, 1, 2, 103, 3895701, 1, 10, 107, 0, 99, 2, 14, 0, 0]\n"
     ]
    }
   ],
   "source": [
    "f = open(\"input\")\n",
    "intcode = [int(i) for i in f.read().split(\",\")]\n",
    "f.close()\n",
    "intcode[1]=12\n",
    "intcode[2]=2\n",
    "program_counter=0\n",
    "#Execute the program\n",
    "while True:\n",
    "    opcode=intcode[program_counter]\n",
    "    param_1=intcode[program_counter+1]\n",
    "    param_2=intcode[program_counter+2]\n",
    "    param_3=intcode[program_counter+3]\n",
    "    #Extremely unefficient switch:\n",
    "    if opcode==1:\n",
    "        intcode[param_3]=intcode[param_1]+intcode[param_2]\n",
    "    elif opcode==2:\n",
    "        intcode[param_3]=intcode[param_1]*intcode[param_2]\n",
    "    elif opcode==99:\n",
    "        print(\"Program complete\")\n",
    "        break\n",
    "    else:\n",
    "        print(\"An error ha occurred\")\n",
    "        break\n",
    "    program_counter+=4\n",
    "print(intcode)"
   ]
  },
  {
   "cell_type": "code",
   "execution_count": null,
   "metadata": {},
   "outputs": [],
   "source": []
  },
  {
   "cell_type": "code",
   "execution_count": null,
   "metadata": {},
   "outputs": [],
   "source": []
  }
 ],
 "metadata": {
  "kernelspec": {
   "display_name": "Python 3",
   "language": "python",
   "name": "python3"
  },
  "language_info": {
   "codemirror_mode": {
    "name": "ipython",
    "version": 3
   },
   "file_extension": ".py",
   "mimetype": "text/x-python",
   "name": "python",
   "nbconvert_exporter": "python",
   "pygments_lexer": "ipython3",
   "version": "3.7.3"
  }
 },
 "nbformat": 4,
 "nbformat_minor": 2
}
