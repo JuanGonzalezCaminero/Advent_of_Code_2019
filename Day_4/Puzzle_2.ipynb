{
 "cells": [
  {
   "cell_type": "code",
   "execution_count": null,
   "metadata": {},
   "outputs": [],
   "source": []
  },
  {
   "cell_type": "code",
   "execution_count": 3,
   "metadata": {},
   "outputs": [],
   "source": [
    "password_range = list(range(367479,893698))"
   ]
  },
  {
   "cell_type": "code",
   "execution_count": 5,
   "metadata": {},
   "outputs": [
    {
     "data": {
      "text/plain": [
       "305"
      ]
     },
     "execution_count": 5,
     "metadata": {},
     "output_type": "execute_result"
    }
   ],
   "source": [
    "possible=0\n",
    "for password in password_range:\n",
    "    password = list(map(int, str(password)))\n",
    "    if password[0]<=password[1]<=password[2]<=password[3]<=password[4]<=password[5]:\n",
    "        if password[0]==password[1]:\n",
    "            if password[0]!=password[2]:\n",
    "                possible+=1\n",
    "                continue\n",
    "        if password[1]==password[2]:\n",
    "            if password[0]!=password[1]!=password[3]:\n",
    "                possible+=1\n",
    "                continue\n",
    "        if password[2]==password[3]:\n",
    "            if password[1]!=password[2]!=password[4]:\n",
    "                possible+=1\n",
    "                continue\n",
    "        if password[3]==password[4]:\n",
    "            if password[2]!=password[3]!=password[5]:\n",
    "                possible+=1\n",
    "                continue\n",
    "        if password[4]==password[5]:\n",
    "            if password[3]!=password[4]:\n",
    "                possible+=1\n",
    "                continue\n",
    "possible"
   ]
  }
 ],
 "metadata": {
  "kernelspec": {
   "display_name": "Python 3",
   "language": "python",
   "name": "python3"
  },
  "language_info": {
   "codemirror_mode": {
    "name": "ipython",
    "version": 3
   },
   "file_extension": ".py",
   "mimetype": "text/x-python",
   "name": "python",
   "nbconvert_exporter": "python",
   "pygments_lexer": "ipython3",
   "version": "3.7.3"
  }
 },
 "nbformat": 4,
 "nbformat_minor": 2
}
