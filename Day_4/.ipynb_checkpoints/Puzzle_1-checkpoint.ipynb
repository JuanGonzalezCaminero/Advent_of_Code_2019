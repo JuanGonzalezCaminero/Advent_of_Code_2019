{
 "cells": [
  {
   "cell_type": "code",
   "execution_count": 1,
   "metadata": {},
   "outputs": [],
   "source": [
    "import numpy as np"
   ]
  },
  {
   "cell_type": "code",
   "execution_count": 2,
   "metadata": {},
   "outputs": [],
   "source": [
    "password_range = list(range(367479,893698))"
   ]
  },
  {
   "cell_type": "code",
   "execution_count": 26,
   "metadata": {},
   "outputs": [
    {
     "name": "stdout",
     "output_type": "stream",
     "text": [
      "ha\n"
     ]
    },
    {
     "data": {
      "text/plain": [
       "0"
      ]
     },
     "execution_count": 26,
     "metadata": {},
     "output_type": "execute_result"
    }
   ],
   "source": [
    "possible=0\n",
    "for password in password_range:\n",
    "    password = list(map(int, str(password)))\n",
    "    print(password)\n",
    "    if password[0]<password[1]<password[2]<password[3]<password[4]<password[5]:\n",
    "        print(\"ha\")\n",
    "        if password[0]==password[1] or password[1]==password[2] or \\\n",
    "        password[2]==password[3] or password[3]==password[4] or \\\n",
    "        password[4]==password[5]:\n",
    "            print(\"hey\")\n",
    "            possible+=1\n",
    "possible"
   ]
  },
  {
   "cell_type": "code",
   "execution_count": 24,
   "metadata": {},
   "outputs": [
    {
     "data": {
      "text/plain": [
       "False"
      ]
     },
     "execution_count": 24,
     "metadata": {},
     "output_type": "execute_result"
    }
   ],
   "source": [
    "a = 125345\n",
    "password=list(map(int, str(a)))\n",
    "password[0]==password[1] or password[1]==password[2] or \\\n",
    "        password[2]==password[3] or password[3]==password[4] or \\\n",
    "        password[4]==password[5]"
   ]
  }
 ],
 "metadata": {
  "kernelspec": {
   "display_name": "Python 3",
   "language": "python",
   "name": "python3"
  },
  "language_info": {
   "codemirror_mode": {
    "name": "ipython",
    "version": 3
   },
   "file_extension": ".py",
   "mimetype": "text/x-python",
   "name": "python",
   "nbconvert_exporter": "python",
   "pygments_lexer": "ipython3",
   "version": "3.7.3"
  }
 },
 "nbformat": 4,
 "nbformat_minor": 2
}
